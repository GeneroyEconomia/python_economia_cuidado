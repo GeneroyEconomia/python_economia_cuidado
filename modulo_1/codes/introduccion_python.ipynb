{
  "nbformat": 4,
  "nbformat_minor": 0,
  "metadata": {
    "colab": {
      "provenance": []
    },
    "kernelspec": {
      "name": "python3",
      "display_name": "Python 3"
    },
    "language_info": {
      "name": "python"
    }
  },
  "cells": [
    {
      "cell_type": "markdown",
      "source": [
        "![Logo GyE-08.png](data:image/png;base64,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)\n",
        "\n",
        "\n",
        "\n",
        "## **Sesión 1: Introducción a Python y Configuración del Entorno**\n",
        "---\n",
        "\n",
        "Autor: Linda Nataly Corredor Martínez. Asistente de investigación Proyecto Género y Economía (https://generoyeconomia.org).\n",
        "\n",
        "---\n",
        "\n",
        "\n",
        "**Contenido de la sesión:**\n",
        "*  Google Colab\n",
        "1. Importar e instalar paquetes (librerías)\n",
        "2. Tipos de datos\n",
        "3. Variables\n",
        "4. Sintaxis básica (condicionales, loops y funciones)\n",
        "5. Algunos Ejercicios\n",
        "\n",
        "Nota: El material relacionado con esta sesión se encuentra en la página del curso: https://generoyeconomia.github.io/python_economia_cuidado/index.html  , en la sección Módulo 1."
      ],
      "metadata": {
        "id": "GHFk4HbWe_Zn"
      }
    },
    {
      "cell_type": "markdown",
      "source": [
        "## **Introducción a Python en Google Colab**\n",
        "\n",
        "¡Bienvenido a tu primer notebook de Google Colab! Antes de sumergirnos en los aspectos técnicos de Python, es importante comprender algunos elementos clave de este entorno de programación en la nube.\n",
        "\n",
        "1. **Entorno de ejecución**:\n",
        "Google Colab proporciona un entorno de ejecución en la nube que te permite escribir y ejecutar código Python en un navegador web. Esto significa que puedes acceder a recursos computacionales potentes sin necesidad de configurar un entorno de desarrollo en tu propia máquina.\n",
        "\n",
        "2. **Celdas de código y texto**:\n",
        "Este notebook está compuesto por celdas, que pueden ser de dos tipos: celdas de código y celdas de texto (Markdown). Las celdas de código se utilizan para escribir y ejecutar código Python, mientras que las celdas de texto se utilizan para documentar y explicar el código.\n",
        "\n",
        "3. **Ejecución de celdas**:\n",
        "Para ejecutar una celda de código, simplemente selecciónala y presiona Shift + Enter o haz clic en el botón de ejecución junto a la celda. La salida del código se mostrará debajo de la celda de código."
      ],
      "metadata": {
        "id": "E8M2DXeqkziL"
      }
    },
    {
      "cell_type": "code",
      "source": [
        "#Verificar la version de Python\n",
        "import sys\n",
        "print(sys.version)"
      ],
      "metadata": {
        "id": "3uUgAjOoT8eH"
      },
      "execution_count": null,
      "outputs": []
    },
    {
      "cell_type": "markdown",
      "source": [
        "Al ejecutar cada bloque dentro de un notebook, aparecerá un verificador verde en el lado izquierdo del código ejecutado, el tiempo de ejecución, y se mostrara el resultado dentro del notebook."
      ],
      "metadata": {
        "id": "f24qIdSXUN_v"
      }
    },
    {
      "cell_type": "code",
      "source": [
        "print(\"Sesión 1\")"
      ],
      "metadata": {
        "id": "yexWlg17URdH"
      },
      "execution_count": null,
      "outputs": []
    },
    {
      "cell_type": "markdown",
      "source": [
        "## **Comentarios**\n",
        "En Python, el intérprete ignora cualquier texto que vaya después del símbolo **#**. Esto es útil para incluir comentarios en el código. También puedes comentar bloques de código para excluirlos temporalmente sin tener que eliminarlos."
      ],
      "metadata": {
        "id": "tZ61G6qkTZSk"
      }
    },
    {
      "cell_type": "code",
      "source": [
        "# Los comentarios son texto no ejecutable, que permite la documentación de un programa."
      ],
      "metadata": {
        "id": "V8bIIsxRLo2O"
      },
      "execution_count": null,
      "outputs": []
    },
    {
      "cell_type": "code",
      "source": [
        "print(\"Llegó a esta línea\")  # Informe de estado simple"
      ],
      "metadata": {
        "id": "tYmy-HmzLpSo"
      },
      "execution_count": null,
      "outputs": []
    },
    {
      "cell_type": "markdown",
      "source": [
        "## **Importar e instalar paquetes**\n",
        "Una librería en Python es un conjunto de funciones y herramientas predefinidas que extienden las capacidades del lenguaje. Estas librerías permiten a los desarrolladores acceder a funcionalidades especializadas para tareas específicas, como análisis de datos, visualización, aprendizaje automático y más, facilitando el desarrollo de aplicaciones eficientes y potentes.\n",
        "\n",
        "En Google Colab, encontrarás una variedad de bibliotecas de Python preinstaladas, desde las fundamentales como NumPy y Pandas hasta las especializadas como TensorFlow y Matplotlib. Esta preinstalación tiene como objetivo principal simplificar el proceso de inicio y facilitar el trabajo en proyectos de análisis de datos, aprendizaje automático y otros campos de la ciencia de datos.\n"
      ],
      "metadata": {
        "id": "XLW7Pn10Wnv7"
      }
    },
    {
      "cell_type": "code",
      "source": [
        "#Para verificar si una librería está preinstalada en Google Colab\n",
        "#Reemplaza 'nombre_de_la_librería' con el nombre del paquete que deseas verificar.\n",
        "!pip show nombre_de_la_librería"
      ],
      "metadata": {
        "id": "_HrfvbR9Xy4g"
      },
      "execution_count": null,
      "outputs": []
    },
    {
      "cell_type": "code",
      "source": [
        "#Por ejemplo, si quieres verificar si NumPy está preinstalado, puedes ejecutar:\n",
        "!pip show numpy"
      ],
      "metadata": {
        "id": "7pjeEc-AZKoM"
      },
      "execution_count": null,
      "outputs": []
    },
    {
      "cell_type": "markdown",
      "source": [
        "Para hacer uso de una librería en Python es necesario importarla en el ambiente de trabajo empleando la sentencia import. Usualmente, la importación de las librerías se realiza al principio del notebook.\n",
        "\n",
        "Otra forma más rápida de verificar si un paquete está instalado es intentar importarlo en tu notebook de Colab. Si no recibes ningún error al importarlo, significa que NumPy está preinstalado en Colab. Si recibes un error, significa que el paquete no está instalado."
      ],
      "metadata": {
        "id": "p5TrMcjtXyIq"
      }
    },
    {
      "cell_type": "code",
      "source": [
        "#Por ejemplo, si quieres verificar si NumPy está instalado, simplemente intenta importarlo:\n",
        "import numpy as np"
      ],
      "metadata": {
        "id": "QwVRqcefZbIO"
      },
      "execution_count": null,
      "outputs": []
    },
    {
      "cell_type": "code",
      "source": [
        "# Usa el siguiente comando si la librería no está instalada.\n",
        "#Reemplaza 'nombre_de_la_librería' con el nombre del paquete que deseas instalar.\n",
        "!pip install nombre_de_la_librería"
      ],
      "metadata": {
        "id": "fotSo82PcFLe"
      },
      "execution_count": null,
      "outputs": []
    },
    {
      "cell_type": "markdown",
      "source": [
        "Para entender el uso de una librería en Python la documentación es tu mejor aliado.\n",
        "Puedes encontrala fácilmente buscando en línea el nombre de la librería seguido de la palabra \"documentación\" o \"documentation\" (generalmenta la documentación se encuentra en inglés)."
      ],
      "metadata": {
        "id": "8Z8yFVvFcDGQ"
      }
    },
    {
      "cell_type": "code",
      "source": [
        "#Para conocer la lista de módulos instalados empleando el comando\n",
        "!pip list -v"
      ],
      "metadata": {
        "id": "KDCPlCCbQ7_w"
      },
      "execution_count": null,
      "outputs": []
    },
    {
      "cell_type": "markdown",
      "source": [
        "# **Tipos de datos**\n",
        "**Tipos escalares (también llamados tipos primitivos o básicos):**\n",
        "* Enteros (*int*): Números enteros, como 1, -3, 42.\n",
        "* Números de punto flotante (*float*): Números decimales, como 3.14, -0.001.\n",
        "* Cadenas de caracteres (*str*): Texto, como \"hola\", \"Python\".\n",
        "* Booleanos (*bool*): Valores de verdad, True o False.\n",
        "\n",
        "**Tipos compuestos (estructuras de datos que pueden contener múltiples valores):**\n",
        "* Listas (list): Secuencias ordenadas y mutables de elementos, como [1, 2, 3].\n",
        "* Tuplas (tuple): Secuencias ordenadas e inmutables de elementos, como (1, 2, 3).\n",
        "* Diccionarios (dict): Colecciones de pares clave-valor, como {'a': 1, 'b': 2}.\n",
        "* Conjuntos (set): Colecciones no ordenadas de elementos únicos, como {1, 2, 3}.\n",
        "\n",
        "Además, la función `type` nos permite consultar el tipo de un valor. Vamos a explorar estos conceptos con más detalle en las siguientes secciones."
      ],
      "metadata": {
        "id": "sW2v5nNMQF6x"
      }
    },
    {
      "cell_type": "markdown",
      "source": [
        "## **Tipos Numéricos**\n",
        "### **Int (Números enteros)**\n",
        "Este tipo permite representar números enteros, tanto positivos como negativos.\n",
        "Estos numeros puedes ser arbitrariamente grandes."
      ],
      "metadata": {
        "id": "qq_QvamRWJj3"
      }
    },
    {
      "cell_type": "code",
      "source": [
        "# Definimos una variable llamada val y le asignamos el valor 17239871\n",
        "val = 17239871\n",
        "# Calculamos val elevado a la potencia de 6\n",
        "resultado = val ** 6\n",
        "# Imprimimos el resultado\n",
        "resultado"
      ],
      "metadata": {
        "id": "00ht_wG6Xdu3"
      },
      "execution_count": null,
      "outputs": []
    },
    {
      "cell_type": "code",
      "source": [
        "# Definimos una variable llamada a y le asignamos el valor 5\n",
        "a = 5\n",
        "# Imprimimos el tipo de dato de a\n",
        "type(a)"
      ],
      "metadata": {
        "id": "HjOH8XqyVxjf"
      },
      "execution_count": null,
      "outputs": []
    },
    {
      "cell_type": "markdown",
      "source": [
        "### **Float (Números decimales)**\n",
        "Este tipo permite representar números decimales. En Python, los números decimales se representan con un punto como separador.\n",
        "\n"
      ],
      "metadata": {
        "id": "WRAUn9AWZVXg"
      }
    },
    {
      "cell_type": "code",
      "source": [
        "# Definimos una variable llamada x y le asignamos el valor 3.14\n",
        "x = 3.14\n",
        "# Definimos una variable llamada y y le asignamos el valor -0.001\n",
        "y = -0.001\n",
        "# Podemos imprimir los valores para verificar la asignación\n",
        "print(\"El valor de x es:\", x)\n",
        "print(\"El valor de y es:\", y)"
      ],
      "metadata": {
        "id": "_KzYHChqZNaY"
      },
      "execution_count": null,
      "outputs": []
    },
    {
      "cell_type": "markdown",
      "source": [
        "También se pueden expresar con notación científica."
      ],
      "metadata": {
        "id": "h4rDRbCeVyIv"
      }
    },
    {
      "cell_type": "code",
      "source": [
        "# Definimos una variable llamada b y le asignamos el valor 6.78e-5\n",
        "b = 6.78e-5\n",
        "# Imprimimos el tipo de dato de b\n",
        "type(b)"
      ],
      "metadata": {
        "id": "GjbkZzd0azwu"
      },
      "execution_count": null,
      "outputs": []
    },
    {
      "cell_type": "markdown",
      "source": [
        "#**Tipos de Secuencia**\n",
        "### **Str (Cadenas de caracteres)**\n",
        "Los str en Python son objetos que representan cadenas de caracteres, es decir, secuencias de caracteres alfanuméricos y/o especiales. Estas cadenas pueden contener letras, números, espacios, símbolos de puntuación y cualquier otro carácter imprimible.\n",
        "\n",
        "En Python, las cadenas se definen utilizando\n",
        "1. comillas simples (' ')\n",
        "2. comillas dobles  (\" \")\n",
        "3. comillas triples (''' ''' o \"\"\" \"\"\")."
      ],
      "metadata": {
        "id": "OM7wMNeaZNsv"
      }
    },
    {
      "cell_type": "markdown",
      "source": [
        "**Comilla simples**"
      ],
      "metadata": {
        "id": "wsSyNOFgV_7P"
      }
    },
    {
      "cell_type": "code",
      "source": [
        "# Definimos una variable llamada c y le asignamos el valor 'una forma de escribir una cadena'\n",
        "c = 'una forma de escribir una cadena'\n",
        "# Imprimimos el valor de la variable c\n",
        "print(c)\n",
        "# Utilizamos la función type() para obtener el tipo de dato de la variable c\n",
        "type(c)"
      ],
      "metadata": {
        "id": "0HqWCZ-U24bQ"
      },
      "execution_count": null,
      "outputs": []
    },
    {
      "cell_type": "markdown",
      "source": [
        "**Comillas dobles**"
      ],
      "metadata": {
        "id": "eJfNveeoWS0n"
      }
    },
    {
      "cell_type": "code",
      "source": [
        "# Definimos una variable llamada d y le asignamos el valor \"otra forma\"\n",
        "d = \"otra forma\"\n",
        "# Imprimimos el valor de la variable d\n",
        "d"
      ],
      "metadata": {
        "id": "kBiy1ixBct74"
      },
      "execution_count": null,
      "outputs": []
    },
    {
      "cell_type": "markdown",
      "source": [
        "**Comillas triples: cadenas de texto multilínea**"
      ],
      "metadata": {
        "id": "pqKsOMyBWtJo"
      }
    },
    {
      "cell_type": "code",
      "source": [
        "# Definimos una variable llamada e y le asignamos una cadena de caracteres que ocupa varias líneas\n",
        "e = \"\"\"\n",
        "Este es un mensaje\n",
        "que ocupa varias líneas\n",
        "en Python.\n",
        "\"\"\"\n",
        "# Imprimimos el valor de la variable e\n",
        "e"
      ],
      "metadata": {
        "id": "RcOtwb4Yf49n"
      },
      "execution_count": null,
      "outputs": []
    },
    {
      "cell_type": "code",
      "source": [
        "# Para conocer el número de líneas que tiene la cadena e\n",
        "e.count(\"\\n\")"
      ],
      "metadata": {
        "id": "c63DuzlAf7ig"
      },
      "execution_count": null,
      "outputs": []
    },
    {
      "cell_type": "markdown",
      "source": [
        "### **Hello World**\n",
        "¿Sabías qué?\n",
        " > Este programa se hizo ampliamente conocido a través del libro de Kernighan & Ritchie de 1978 que introducía \"El Lenguaje de Programación C\". Desde entonces, Hello World se ha implementado en casi todos los lenguajes de programación del planeta. Aquí encontrarás la colección que incluye 603 programas Hello World en otros tantos lenguajes de programación: http://helloworldcollection.de/\n",
        "\n",
        "\n",
        "---\n",
        "**Ejercicio**\n",
        "\n",
        "El objetivo de este pequeño ejercicio es hacer que el código imprima en la ventana de salida el siguiente texto:\n",
        "\n",
        "  `Hello, World!`\n"
      ],
      "metadata": {
        "id": "b74rrwlJKIsa"
      }
    },
    {
      "cell_type": "code",
      "source": [
        "# Escriba un código que imprima \"Hello, World!\"\n"
      ],
      "metadata": {
        "id": "WxBtadeyV8Di"
      },
      "execution_count": null,
      "outputs": []
    },
    {
      "cell_type": "markdown",
      "source": [
        "**Al sumar cadenas, se crea una nueva cadena combinando las dos originales**"
      ],
      "metadata": {
        "id": "8EpqsIr-XCiO"
      }
    },
    {
      "cell_type": "code",
      "source": [
        "# Definimos una variable llamada f y le asignamos el valor \"esta es la primera mitad \"\n",
        "f = \"esta es la primera mitad \"\n",
        "\n",
        "# Definimos una variable llamada g y le asignamos el valor \"y esta es la segunda mitad\"\n",
        "g = \"y esta es la segunda mitad\"\n",
        "\n",
        "# Concatenamos las variables f y g, y almacenamos el resultado en la variable concatenado\n",
        "concatenado = f + g\n",
        "\n",
        "# Imprimimos el resultado de la concatenación\n",
        "print(concatenado)"
      ],
      "metadata": {
        "id": "qqqDTbJ_xmbH"
      },
      "execution_count": null,
      "outputs": []
    },
    {
      "cell_type": "markdown",
      "source": [
        "### **Tuplas**\n",
        "Una tupla en Python es una estructura de datos ordenada e inmutable que puede contener una secuencia de elementos de cualquier tipo, como números, cadenas, u otros objetos. Se define utilizando paréntesis () y los elementos están separados por comas. A diferencia de las listas, las tuplas no pueden modificarse una vez que se han creado, lo que significa que no se pueden agregar, eliminar o modificar elementos individualmente."
      ],
      "metadata": {
        "id": "3Ey7iee70Zvw"
      }
    },
    {
      "cell_type": "code",
      "source": [
        "# Se define una variable llamada mi_tupla y le asignamos el valor (1,2,3,4)\n",
        "mi_tupla = (1,2,3,4)"
      ],
      "metadata": {
        "id": "zGOd7LUm2yn4"
      },
      "execution_count": null,
      "outputs": []
    },
    {
      "cell_type": "code",
      "source": [
        "# Definir una tupla de coordenadas\n",
        "coordenadas = (10, 20)\n",
        "\n",
        "# Acceder a elementos de la tupla\n",
        "x = coordenadas[0]\n",
        "y = coordenadas[1]\n",
        "\n",
        "#Imprimiendo coordenadas\n",
        "print(\"Coordenadas:\", coordenadas)\n",
        "print(\"Coordenada x:\", x)\n",
        "print(\"Coordenada y:\", y)"
      ],
      "metadata": {
        "id": "vzCbSKuV0Zau"
      },
      "execution_count": null,
      "outputs": []
    },
    {
      "cell_type": "markdown",
      "source": [
        "### **Listas**\n",
        "Las listas son secuencias ordenadas y mutables de elementos.\n",
        "Las listas se definen utilizando corchetes ( [ ] ) y separando los elementos con comas (,).\n",
        "\n",
        "Algunas de sus características son:\n",
        "1. **Mutables:** Esto significa que se pueden modificar después de haber sido creadas. Puedes cambiar, agregar o eliminar elementos de una lista según sea necesario.\n",
        "\n",
        "2. **Ordenadas:** Los elementos de una lista están ordenados y se pueden acceder a través de sus índices. El primer elemento tiene un índice de 0, el segundo un índice de 1, y así sucesivamente.\n",
        "\n",
        "3. **Heterogéneas:** Los elementos de una lista pueden ser de diferentes tipos de datos. Por ejemplo, una lista puede contener enteros, cadenas, flotantes y otros tipos de datos de Python.\n",
        "\n",
        "\n",
        "\n",
        "---\n",
        "* Para acceder a un elemento de la lista conociendo su posición (índice), se usa mi_lista[índice].\n",
        "\n",
        "* Para encontrar la posición (índice) de un elemento conocido en la lista, se usa mi_lista.index(elemento).\n"
      ],
      "metadata": {
        "id": "Tp7CES5dhTeX"
      }
    },
    {
      "cell_type": "code",
      "source": [
        "# Definimos una lista llamada mi_lista con los elementos 1, 2, 3, 4, 5\n",
        "mi_lista = [1, 2, 3, 4, 5]\n",
        "\n",
        "# Para acceder a un elemento de la lista conociendo su posición (índice)\n",
        "# Imprimimos el primer elemento de la lista (índice 0)\n",
        "print(mi_lista[0])\n",
        "\n",
        "# Para encontrar la posición (índice) de un elemento conocido en la lista\n",
        "# Imprimimos la posición del elemento 5 en la lista\n",
        "print(mi_lista.index(5))"
      ],
      "metadata": {
        "id": "JwISkfy6LC1V"
      },
      "execution_count": null,
      "outputs": []
    },
    {
      "cell_type": "code",
      "source": [
        "# Definimos una variable llamada s y le asignamos la cadena de caracteres \"python\"\n",
        "s = \"python\"\n",
        "\n",
        "# Convertimos la cadena s en una lista de caracteres\n",
        "lista_de_caracteres = list(s)\n",
        "\n",
        "# Imprimimos la lista de caracteres\n",
        "print(lista_de_caracteres)"
      ],
      "metadata": {
        "id": "L1wYTRUFyIc2"
      },
      "execution_count": null,
      "outputs": []
    },
    {
      "cell_type": "code",
      "source": [
        "# Ejemplo: Lista de tareas pendientes\n",
        "tareas_pendientes = [\"Comprar leche\", \"Enviar correo electrónico\", \"Estudiar para el examen\"]"
      ],
      "metadata": {
        "id": "LEDdP748LK71"
      },
      "execution_count": null,
      "outputs": []
    },
    {
      "cell_type": "code",
      "source": [
        "# Ejercicio: En qué posición del diccionario tareas_pendientes se encuentra la tarea: \"Estudiar para el examen\"\n"
      ],
      "metadata": {
        "id": "ZzJ7eScNKFwX"
      },
      "execution_count": null,
      "outputs": []
    },
    {
      "cell_type": "markdown",
      "source": [
        "### **Diccionarios**\n",
        "Un diccionario en Python es una estructura de datos que permite almacenar pares clave-valor. Cada elemento en un diccionario consiste en una clave única y su correspondiente valor asociado. Las claves pueden ser de cualquier tipo inmutable, como cadenas, números o tuplas, y los valores pueden ser de cualquier tipo de dato, incluidos otros diccionarios, listas o cualquier objeto de Python.\n",
        "\n",
        "Los diccionarios se definen utilizando llaves {} y los pares clave-valor se separan por dos puntos :.\n",
        "\n",
        "Los diccionarios en Python son:\n",
        "\n",
        "1. **Mutables:** Los elementos de un diccionario se pueden modificar, agregar o eliminar después de haber sido creados.\n",
        "\n",
        "2. **No ordenados:** A diferencia de las listas, los elementos en un diccionario no tienen un orden específico. Esto significa que los elementos no se almacenan en el orden en que se agregan y no se pueden acceder a través de índices.\n",
        "\n",
        "3. **Eficientes en búsqueda:**Los diccionarios son eficientes para realizar búsquedas y recuperar valores utilizando las claves como referencia, lo que los hace ideales para la implementación de mapeos y asociaciones entre datos."
      ],
      "metadata": {
        "id": "N9_qNBbYy32X"
      }
    },
    {
      "cell_type": "code",
      "source": [
        "# Estructura de definición de un diccionario\n",
        "mi_diccionario = {\"clave1\": valor1, \"clave2\": valor2, \"clave3\": valor3}"
      ],
      "metadata": {
        "id": "FQuPYYkTw0ne"
      },
      "execution_count": null,
      "outputs": []
    },
    {
      "cell_type": "markdown",
      "source": [
        "**Ejemplo**"
      ],
      "metadata": {
        "id": "d4IrtYRbU09-"
      }
    },
    {
      "cell_type": "code",
      "source": [
        "# Definimos un diccionario llamado estudiantes que contiene información sobre varios estudiantes\n",
        "estudiantes = {\n",
        "    12345: {\"nombre\": \"Juan\", \"edad\": 18, \"carrera\": \"Ingeniería\"},\n",
        "    67890: {\"nombre\": \"María\", \"edad\": 20, \"carrera\": \"Medicina\"},\n",
        "    13579: {\"nombre\": \"Pedro\", \"edad\": 19, \"carrera\": \"Economía\"}\n",
        "}"
      ],
      "metadata": {
        "id": "3E-R0dq41AkH"
      },
      "execution_count": null,
      "outputs": []
    },
    {
      "cell_type": "code",
      "source": [
        "# Acceder a la información de un estudiante por su número de identificación\n",
        "id_estudiante = 12345\n",
        "info_estudiante = estudiantes[id_estudiante]\n",
        "print(\"Información del estudiante con ID\", id_estudiante)\n",
        "print(\"Nombre:\", info_estudiante[\"nombre\"])\n",
        "print(\"Edad:\", info_estudiante[\"edad\"])\n",
        "print(\"Carrera:\", info_estudiante[\"carrera\"])"
      ],
      "metadata": {
        "id": "hT4fx4bB1CXX"
      },
      "execution_count": null,
      "outputs": []
    },
    {
      "cell_type": "code",
      "source": [
        "# ¿Por qué se genera este error?\n",
        "estudiantes = {\n",
        "    12345: {\"nombre\": \"Juan\", \"edad\": 18, \"carrera\": \"Ingeniería\"},\n",
        "    67890: {\"nombre\": \"María\", \"edad\": 20, \"carrera\": \"Medicina\"},\n",
        "    13579: {\"nombre\": \"Pedro\", \"edad\": 19, \"carrera\": \"Economía\"},\n",
        "    12345: {\"nombre\": \"Ana\", \"edad\": 22, \"carrera\": \"Arquitectura\"}\n",
        "}"
      ],
      "metadata": {
        "id": "l5IQWe1IMIWF"
      },
      "execution_count": null,
      "outputs": []
    },
    {
      "cell_type": "code",
      "source": [
        "#Ejercicio: Crea un diccionario donde las claves sean las letras desde 'a' hasta 'd' y los valores sean la posición numérica de cada una de estas letras en el alfabeto.\n"
      ],
      "metadata": {
        "id": "B0WQS_QGLSdt"
      },
      "execution_count": null,
      "outputs": []
    },
    {
      "cell_type": "markdown",
      "source": [
        "## **Variables**\n",
        "En Python, una variable es un contenedor que se utiliza para almacenar datos en la memoria durante la ejecución de un programa. Las variables tienen un nombre que las identifica y un valor que puede ser de cualquier tipo de datos, como números, cadenas de texto, listas, diccionarios, etc.\n",
        "\n",
        "Se puede asignarle tantos valores a una variable como se quiera, sólo recordará el último valor y, por ende, su tipo.\n",
        "\n",
        "Es decir, cuando asignas un nombre a una variable en Python, estás creando una conexión o referencia al objeto que está siendo especificado en el lado derecho del signo igual. Para ilustrarlo mejor, piensa en una lista de números enteros como ejemplo práctico:\n",
        "\n",
        "\n",
        "\n",
        "\n",
        "\n",
        "\n",
        "\n",
        "\n"
      ],
      "metadata": {
        "id": "kFe_9igJWEbK"
      }
    },
    {
      "cell_type": "code",
      "source": [
        "# Creamos una Variable llamada 'a' que contiene los elementos 1, 2 y 3. Esta es una lista.\n",
        "a = [1, 2, 3]"
      ],
      "metadata": {
        "id": "cb5QXKAIbuD2"
      },
      "execution_count": null,
      "outputs": []
    },
    {
      "cell_type": "code",
      "source": [
        "# ¿Cuál es el error aquí?\n",
        "6 = v1"
      ],
      "metadata": {
        "id": "CDkfG8Fw7r7w"
      },
      "execution_count": null,
      "outputs": []
    },
    {
      "cell_type": "code",
      "source": [
        "# Asignamos el valor 25 a la variable edad\n",
        "edad = 25"
      ],
      "metadata": {
        "id": "a15nJ_4X7-Me"
      },
      "execution_count": null,
      "outputs": []
    },
    {
      "cell_type": "markdown",
      "source": [
        "  *Recomendaciones:*\n",
        "*   **Sé descriptivo**: Las variables siempre deben tener un nombre significativo y que refleje su propósito en el código (procura que sea corto).\n",
        "*   **Evita nombres genéricos y palabras reservadas** : como  x, y, temp; list, dict, int, str.\n",
        "*   **Sigue la convención snake_case**: En Python, se recomienda seguir la convención de nombres de variables  en minúsculas con palabras separadas por guiones bajos (snake_case). No usar espacios u tíldes.  *Por ejemplo*: nombre_usuario, edad_persona, etc.\n",
        "*   El primera carácter no puede ser un dígito.\n",
        "*   Elemento de lista"
      ],
      "metadata": {
        "id": "lkb1WLEqVcj0"
      }
    },
    {
      "cell_type": "markdown",
      "source": [
        "Con variables en Python, puedes realizar una variedad de operaciones y manipulaciones de datos.\n",
        "\n",
        "\n",
        "---\n",
        "\n",
        "\n",
        "**Operaciones matemáticas**"
      ],
      "metadata": {
        "id": "ZyRNfG3AUImt"
      }
    },
    {
      "cell_type": "code",
      "source": [
        "# Definimos una variable llamada precio y le asignamos el valor 10\n",
        "precio = 10\n",
        "# Definimos una variable llamada cantidad y le asignamos el valor 5\n",
        "cantidad = 5\n",
        "# Calculamos el total multiplicando el precio por la cantidad\n",
        "total = precio * cantidad\n",
        "# Imprimimos el total\n",
        "total"
      ],
      "metadata": {
        "id": "NHMGCNzg-JPP"
      },
      "execution_count": null,
      "outputs": []
    },
    {
      "cell_type": "markdown",
      "source": [
        "**Concatenación de cadenas: Puedes unir cadenas de caracteres utilizando el operador +**"
      ],
      "metadata": {
        "id": "vWkDrddrUQMl"
      }
    },
    {
      "cell_type": "code",
      "source": [
        "# Definimos una variable llamada saludo y le asignamos el valor \"Hola\"\n",
        "saludo = \"Hola\"\n",
        "# Definimos una variable llamada nombre y le asignamos el valor \"Juan\"\n",
        "nombre = \"Juan\"\n",
        "# Concatenamos las variables saludo, una coma y la variable nombre para formar el mensaje completo\n",
        "mensaje = saludo + \", \" + nombre\n",
        "# Imprimimos el mensaje en la consola\n",
        "print(mensaje)"
      ],
      "metadata": {
        "id": "zXo4wo8w-FsI"
      },
      "execution_count": null,
      "outputs": []
    },
    {
      "cell_type": "markdown",
      "source": [
        "**Actualización de variables: Puedes actualizar el valor de una variable basado en su valor actual**"
      ],
      "metadata": {
        "id": "wKYDX4zRUacd"
      }
    },
    {
      "cell_type": "code",
      "source": [
        "# Definimos una variable llamada contador y le asignamos el valor 0\n",
        "contador = 0\n",
        "# Incrementamos el valor de contador en 1\n",
        "contador = contador + 1"
      ],
      "metadata": {
        "id": "qRT6pLWZ-RmH"
      },
      "execution_count": null,
      "outputs": []
    },
    {
      "cell_type": "markdown",
      "source": [
        "En Python, no se pueden combinar directamente valores de diferentes tipos en expresiones a menos que se realicen conversiones explícitas.\n",
        "\n",
        "\n",
        "---\n",
        "**Ejemplo**\n",
        "\n",
        "En el siguiente ejemplo, convertimos el número entero 85 a una cadena utilizando la función **str()**, luego lo concatenamos con la cadena \"Tu puntaje final es: \". La salida será: Tu puntaje final es: 85. Esto muestra cómo puedes combinar un valor numérico con una cadena para formar un mensaje completo."
      ],
      "metadata": {
        "id": "PeXpI0E4_H8P"
      }
    },
    {
      "cell_type": "code",
      "source": [
        "# Definimos una variable llamada puntaje y le asignamos el valor 85\n",
        "puntaje = 85\n",
        "# Creamos un mensaje que incluye el puntaje final, convirtiendo el puntaje a una cadena utilizando str()\n",
        "mensaje = \"Tu puntaje final es: \" + str(puntaje)\n",
        "# Imprimimos el mensaje en la consola\n",
        "print(mensaje)"
      ],
      "metadata": {
        "id": "EL1RW82Y_lne"
      },
      "execution_count": null,
      "outputs": []
    },
    {
      "cell_type": "markdown",
      "source": [
        "# **Sintaxis básica**\n",
        "La sintaxis básica en programación, que incluye condicionales, loops y funciones, es fundamental para construir programas eficientes y comprensibles.\n",
        "## **Condicionales**\n",
        "Un condicional en Python es una estructura de control que permite tomar decisiones basadas en condiciones específicas.\n",
        "\n",
        "En Python, los condicionales se definen principalmente mediante las palabras clave **if**, **elif** (abreviatura de \"**else if**\") y **else**.\n",
        "\n",
        "\n",
        "* La cláusula **if** evalúa una condición y ejecuta el bloque de código indentado debajo de ella si la condición es verdadera.\n",
        "* La cláusula **elif** (opcional) permite evaluar una condición adicional si la primera condición es falsa. Se pueden tener múltiples bloques **elif** en un condicional.\n",
        "* La cláusula **else** (opcional) se ejecuta si ninguna de las condiciones anteriores es verdadera."
      ],
      "metadata": {
        "id": "6WSuCen4DRRW"
      }
    },
    {
      "cell_type": "markdown",
      "source": [
        "**Sintaxis**"
      ],
      "metadata": {
        "id": "HH0rL3hDSupI"
      }
    },
    {
      "cell_type": "code",
      "source": [
        "if condicion_1:\n",
        "    # código a ejecutar si condicion_1 es verdadera\n",
        "elif condicion_2:\n",
        "    # código a ejecutar si condicion_2 es verdadera\n",
        "else:\n",
        "    # código a ejecutar si ninguna de las condiciones anteriores es verdadera"
      ],
      "metadata": {
        "id": "-_mgNSyu_WNt"
      },
      "execution_count": null,
      "outputs": []
    },
    {
      "cell_type": "markdown",
      "source": [
        "**Ejemplo de if simple**"
      ],
      "metadata": {
        "id": "Esfwh-p7SZkd"
      }
    },
    {
      "cell_type": "code",
      "source": [
        "# Definimos una variable llamada x y le asignamos el valor 10\n",
        "x = 10\n",
        "\n",
        "# Verificamos si el valor de x es mayor que 0\n",
        "if x > 0:\n",
        "    # Si x es mayor que 0, imprimimos un mensaje indicando que x es positivo\n",
        "    print(\"x es positivo\")"
      ],
      "metadata": {
        "id": "j7bxdkWRFGu_"
      },
      "execution_count": null,
      "outputs": []
    },
    {
      "cell_type": "markdown",
      "source": [
        "**Ejemplo de if con else**"
      ],
      "metadata": {
        "id": "zEE5fQQWSdYV"
      }
    },
    {
      "cell_type": "code",
      "source": [
        "# Definimos una variable llamada x y le asignamos el valor -5\n",
        "x = -5\n",
        "\n",
        "# Comprobamos si el valor de x es mayor que 0\n",
        "if x > 0:\n",
        "    # Si x es mayor que 0, imprimimos un mensaje indicando que x es positivo\n",
        "    print(\"x es positivo\")\n",
        "else:\n",
        "    # Si x no es mayor que 0, imprimimos un mensaje indicando que x es negativo o cero\n",
        "    print(\"x es negativo o cero\")"
      ],
      "metadata": {
        "id": "taAbRApHFvki"
      },
      "execution_count": null,
      "outputs": []
    },
    {
      "cell_type": "markdown",
      "source": [
        "**Ejemplo de if, elif y else**"
      ],
      "metadata": {
        "id": "GY46mkw6S53w"
      }
    },
    {
      "cell_type": "code",
      "source": [
        "# Definimos una variable llamada x y le asignamos el valor 0\n",
        "x = 0\n",
        "\n",
        "# Comprobamos si el valor de x es mayor que 0\n",
        "if x > 0:\n",
        "    # Si x es mayor que 0, imprimimos un mensaje indicando que x es positivo\n",
        "    print(\"x es positivo\")\n",
        "\n",
        "# Si x no es mayor que 0, comprobamos si es igual a 0\n",
        "elif x == 0:\n",
        "    # Si x es igual a 0, imprimimos un mensaje indicando que x es igual a cero\n",
        "    print(\"x es igual a cero\")\n",
        "\n",
        "# Si no se cumple ninguna de las condiciones anteriores, asumimos que x es negativo\n",
        "else:\n",
        "    # En este caso, imprimimos un mensaje indicando que x es negativo\n",
        "    print(\"x es negativo\")"
      ],
      "metadata": {
        "id": "TMpgcOriF_Fv"
      },
      "execution_count": null,
      "outputs": []
    },
    {
      "cell_type": "markdown",
      "source": [
        "## **Ejercicio:**\n",
        "**Identificar si un número es mayor que 5 y, en caso de serlo, si es mayor que 20.**\n",
        "\n",
        "Escribe un programa en Python que tome un número como entrada. El programa debe determinar si el número ingresado es mayor que 5 y, en caso afirmativo, determinar si también es mayor que 20. Si el número es mayor que 5 pero no mayor que 20, debe imprimir un mensaje indicando que cumple la primera condición pero no la segunda. Si el número no es mayor que 5, debe imprimir un mensaje indicando que no cumple ninguna de las condiciones.\n",
        "\n",
        "```\n",
        "Para el número 10, el programa imprimirá: \"El número 10 es mayor que 5, pero no es mayor que 20.\"\n",
        "Para el número 25, el programa imprimirá: \"El número 25 es mayor que 5 y también es mayor que 20.\"\n",
        "Para el número 3, el programa imprimirá: \"No se cumple ninguna condición.\"\n",
        "```\n"
      ],
      "metadata": {
        "id": "r-JYrMrQPKzt"
      }
    },
    {
      "cell_type": "code",
      "source": [
        "# Plantea tu solución a continuación:"
      ],
      "metadata": {
        "id": "zlFR4dOINhtW"
      },
      "execution_count": null,
      "outputs": []
    },
    {
      "cell_type": "markdown",
      "source": [
        "## **Loops**\n",
        "Un \"loop\" en Python, también conocido como bucle, es una estructura de control que repite un bloque de código múltiples veces hasta que una condición especificada se evalúa como falsa. Los loops son una forma eficiente de ejecutar tareas repetitivas sin tener que escribir el mismo código una y otra vez.\n",
        "\n",
        "\n",
        "---\n",
        "\n",
        "**Bucle for:** Itera sobre una secuencia (como una lista, tupla, diccionario, etc.) y ejecuta un bloque de código una vez para cada elemento en la secuencia.\n",
        "\n",
        "```\n",
        "for elemento in secuencia:\n",
        "    # Código a ejecutar para cada elemento\n",
        "\n",
        "```\n",
        "---\n",
        "\n"
      ],
      "metadata": {
        "id": "_O5DhUdtadhf"
      }
    },
    {
      "cell_type": "markdown",
      "source": [
        "**Iterando sobre una lista de números:**"
      ],
      "metadata": {
        "id": "-sCh_P4NdGS1"
      }
    },
    {
      "cell_type": "code",
      "source": [
        "# Creamos una lista llamada 'numeros' con los números del 1 al 5\n",
        "numeros = [1, 2, 3, 4, 5]\n",
        "# Iteramos sobre cada elemento de la lista\n",
        "for elemento in numeros:\n",
        "    # Imprimimos cada elemento de la lista\n",
        "    print(elemento)"
      ],
      "metadata": {
        "id": "1bgfRioBb3HN"
      },
      "execution_count": null,
      "outputs": []
    },
    {
      "cell_type": "markdown",
      "source": [
        "**Iterando sobre una lista de strings:**"
      ],
      "metadata": {
        "id": "Zo-PAQFqdEw1"
      }
    },
    {
      "cell_type": "code",
      "source": [
        "# Creamos una lista de nombres\n",
        "nombres = [\"Juan\", \"María\", \"Pedro\", \"Ana\"]\n",
        "\n",
        "# Iteramos sobre cada nombre en la lista\n",
        "for nombre in nombres:\n",
        "    # Imprimimos cada nombre junto con un saludo\n",
        "    print(\"Hola,\", nombre)"
      ],
      "metadata": {
        "id": "l_5xDVxGdRdV"
      },
      "execution_count": null,
      "outputs": []
    },
    {
      "cell_type": "markdown",
      "source": [
        "**Iterando sobre un rango de números**"
      ],
      "metadata": {
        "id": "9jpatztddWlu"
      }
    },
    {
      "cell_type": "code",
      "source": [
        "# Iteramos sobre un rango de números del 1 al 5\n",
        "for i in range(1, 6):\n",
        "    # Imprimimos cada número elevado al cuadrado\n",
        "    print(\"El cuadrado de\", i, \"es\", i**2)"
      ],
      "metadata": {
        "id": "vxiGGRcQdapm"
      },
      "execution_count": null,
      "outputs": []
    },
    {
      "cell_type": "code",
      "source": [
        "# Iteramos sobre los números del 1 al 10, saltando de dos en dos\n",
        "for numero in range(1, 11, 2):\n",
        "    # Imprimimos cada número\n",
        "    print(numero)"
      ],
      "metadata": {
        "id": "rUOZuh-6hQ9P"
      },
      "execution_count": null,
      "outputs": []
    },
    {
      "cell_type": "code",
      "source": [
        "# Iteramos sobre los números del 1 al 10, saltando de dos en dos\n",
        "pasos = 2\n",
        "for numero in range(1, 11, pasos):\n",
        "    # Imprimimos cada número\n",
        "    print(numero)"
      ],
      "metadata": {
        "id": "Siz66myniOfW"
      },
      "execution_count": null,
      "outputs": []
    },
    {
      "cell_type": "markdown",
      "source": [
        "**Iterando sobre un diccionario:**"
      ],
      "metadata": {
        "id": "NMWSIcuZd4AH"
      }
    },
    {
      "cell_type": "code",
      "source": [
        "# Creamos un diccionario de edades\n",
        "edades = {\"Juan\": 30, \"María\": 25, \"Pedro\": 35}\n",
        "\n",
        "# Iteramos sobre cada par clave-valor en el diccionario\n",
        "for nombre, edad in edades.items():\n",
        "    # Imprimimos el nombre y la edad de cada persona\n",
        "    print(nombre, \"tiene\", edad, \"años\")"
      ],
      "metadata": {
        "id": "uu-TG6sOd7Gd"
      },
      "execution_count": null,
      "outputs": []
    },
    {
      "cell_type": "markdown",
      "source": [
        "## **Ejercicio:**\n",
        "**Imprimir los números del 1 al 100 con un patrón de saltos\n",
        "Escribe un programa que imprima los números del 1 al 100, saltando de forma alternada entre 2 y 3.**\n",
        "\n",
        "1. Utiliza un bucle for con range para iterar sobre los números del 1 al 100.\n",
        "2. Alternativamente, en cada iteración, salta 2 pasos y luego 3 pasos.\n",
        "3. Imprime cada número en la consola.\n"
      ],
      "metadata": {
        "id": "1y21J4Lmf37N"
      }
    },
    {
      "cell_type": "code",
      "source": [
        "#Plantea tu solución a continuación:"
      ],
      "metadata": {
        "id": "IEUhw_wgesl2"
      },
      "execution_count": null,
      "outputs": []
    },
    {
      "cell_type": "markdown",
      "source": [
        "## **Funciones**\n",
        "Una función en programación es un bloque de código que realiza una tarea específica y puede ser ejecutado o invocado desde otras partes del programa. Las funciones permiten organizar y reutilizar código, facilitando la modularidad y la legibilidad del programa.\n",
        "\n",
        "**Es importante crear funciones porque:**\n",
        "\n",
        "* **Reutilización de código:** Las funciones permiten encapsular bloques de código que realizan tareas específicas, lo que facilita su reutilización en diferentes partes de un programa.\n",
        "\n",
        "* **Modularidad:** Dividir un programa en funciones más pequeñas y manejables ayuda a organizar y entender mejor el código.\n",
        "\n",
        "* **Abstracción:** Las funciones ocultan los detalles de implementación y proporcionan una interfaz clara para interactuar con el código, lo que facilita la comprensión y el mantenimiento del programa.\n",
        "\n",
        "\n",
        "---\n",
        "\n",
        "\n",
        "\n",
        "En Python, una función se define utilizando la palabra clave `def`, seguida del nombre de la función y entre paréntesis los parámetros que puede recibir. El cuerpo de la función está indentado y contiene las instrucciones que definen qué hace la función.\n",
        "\n",
        "**Para crear una función en Python, necesitas:**\n",
        "\n",
        "1. Utilizar la palabra clave def seguida del nombre de la función.\n",
        "2. Especificar los parámetros de la función entre paréntesis, si los hay.\n",
        "3. Incluir dos puntos (:) al final de la línea de la definición de la función.\n",
        "4. Escribir el cuerpo de la función con el código que deseas ejecutar cuando se llame a la función.\n",
        "\n",
        "\n",
        "\n",
        "---\n",
        "**Estas son algunas de las funciones más conocidas en python:**\n",
        "\n",
        "`print()`\n",
        "\n",
        "**Descripción:** Imprime valores en la consola.\n",
        "\n",
        "**Obtener ayuda:** help(print) o print? en el intérprete interactivo.\n",
        "\n",
        "`range()`\n",
        "\n",
        "**Descripción:** Genera una secuencia de números enteros.\n",
        "\n",
        "**Obtener ayuda:** help(range) o range? en el intérprete interactivo.\n",
        "\n",
        "`str()`\n",
        "\n",
        "**Descripción:** Convierte un objeto en una representación de cadena.\n",
        "\n",
        "**Obtener ayuda:** help(str) o str? en el intérprete interactivo."
      ],
      "metadata": {
        "id": "zdrcSNpPapvm"
      }
    },
    {
      "cell_type": "code",
      "source": [
        "# Definición de la función \"suma\" que toma dos parámetros \"a\" y \"b\"\n",
        "def suma(a, b):\n",
        "    # Dentro de la función, suma los dos parámetros y guarda el resultado en la variable \"resultado\"\n",
        "    resultado = a + b\n",
        "    # Devuelve el resultado de la suma\n",
        "    return resultado"
      ],
      "metadata": {
        "id": "MHWNP7m0j63f"
      },
      "execution_count": null,
      "outputs": []
    },
    {
      "cell_type": "code",
      "source": [
        "# Comillas triples: documentación de funciones y clases\n",
        "def mi_funcion():\n",
        "    \"\"\"\n",
        "    Esta función hace algo interesante.\n",
        "    \"\"\"\n",
        "    pass"
      ],
      "metadata": {
        "id": "6RNK_U_Sd7_Z"
      },
      "execution_count": null,
      "outputs": []
    },
    {
      "cell_type": "markdown",
      "source": [
        "**Otro ejemplo**"
      ],
      "metadata": {
        "id": "CKra56Q5lwSW"
      }
    },
    {
      "cell_type": "code",
      "source": [
        "# Definición de la función\n",
        "def saludar(nombre):\n",
        "    \"\"\"Esta función imprime un saludo personalizado.\"\"\"\n",
        "    # Imprimir el saludo con el nombre proporcionado\n",
        "    return print(\"¡Hola,\", nombre, \"! ¿Cómo estás hoy?\")\n",
        "\n",
        "# Llamada a la función\n",
        "saludar(\"Juan\")"
      ],
      "metadata": {
        "id": "4TFlGwNRjdsE"
      },
      "execution_count": null,
      "outputs": []
    },
    {
      "cell_type": "markdown",
      "source": [
        "# **EJERCICIOS ADICIONALES PARA TRABAJAR**"
      ],
      "metadata": {
        "id": "E2Ep43s1n0De"
      }
    },
    {
      "cell_type": "markdown",
      "source": [
        "**Cálculo del tiempo dedicado a los oficios del hogar**\n",
        "\n",
        "\n",
        "---\n",
        "\n",
        "\n",
        "**Descripción del ejercicio:**\n",
        "\n",
        "Supongamos que queremos calcular el tiempo total dedicado a los oficios del hogar por cada miembro de una familia durante una semana. Escribe una función llamada tiempo_oficios_hogar que tome una lista como entrada, donde cada elemento de la lista represente el tiempo en horas dedicado por un miembro de la familia. La función debe devolver el tiempo total dedicado a los quehaceres del hogar por la familia.\n",
        "\n",
        "**Instrucciones:**\n",
        "1. Define una función llamada tiempo_oficios_hogar que tome una lista llamada horas_por_miembro como su único argumento.\n",
        "2. Dentro de la función, calcula el tiempo total sumando los valores de la lista horas_por_miembro.\n",
        "3. Devuelve el tiempo total calculado como resultado de la función.\n",
        "4. Utiliza la función para calcular el tiempo total dedicado a los quehaceres del hogar por una familia con los siguientes datos:\n",
        "     * Juan: 20 horas\n",
        "     * María: 15 horas\n",
        "     * Carlos: 25 horas\n",
        "     * Ana: 10 horas\n",
        "5. Imprime el tiempo total dedicado a los quehaceres del hogar por la familia."
      ],
      "metadata": {
        "id": "n-kVMC94u_Yy"
      }
    },
    {
      "cell_type": "code",
      "source": [],
      "metadata": {
        "id": "F2199VLIn6YO"
      },
      "execution_count": null,
      "outputs": []
    },
    {
      "cell_type": "markdown",
      "source": [
        "**Identificar días de mayor carga de cuidado**\n",
        "\n",
        "---\n",
        "\n",
        "\n",
        "Escribe una función llamada dias_carga_cuidado que tome una lista de tiempos en minutos dedicados al cuidado de una persona con discapacidad durante una semana. La función debe identificar y devolver una lista con los días de la semana en los que se dedicó más tiempo al cuidado."
      ],
      "metadata": {
        "id": "0U4_1VTyxtQr"
      }
    },
    {
      "cell_type": "code",
      "source": [],
      "metadata": {
        "id": "85N1ushAyC1T"
      },
      "execution_count": null,
      "outputs": []
    },
    {
      "cell_type": "markdown",
      "source": [
        "**Identificar días sin cuidado**\n",
        "\n",
        "\n",
        "---\n",
        "\n",
        "\n",
        "Escribe una función llamada dias_sin_cuidado que tome una lista de tiempos en minutos dedicados al cuidado de una persona con discapacidad durante una semana. La función debe identificar y devolver una lista con los días de la semana en los que no se dedicó tiempo al cuidado."
      ],
      "metadata": {
        "id": "Rh8JjmglyDQc"
      }
    },
    {
      "cell_type": "code",
      "source": [],
      "metadata": {
        "id": "qvOwgLBGyFjI"
      },
      "execution_count": null,
      "outputs": []
    }
  ]
}