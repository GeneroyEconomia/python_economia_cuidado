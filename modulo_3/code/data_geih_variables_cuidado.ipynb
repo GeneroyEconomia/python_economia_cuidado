{
  "nbformat": 4,
  "nbformat_minor": 0,
  "metadata": {
    "colab": {
      "provenance": [],
      "toc_visible": true
    },
    "kernelspec": {
      "name": "python3",
      "display_name": "Python 3"
    },
    "language_info": {
      "name": "python"
    }
  },
  "cells": [
    {
      "cell_type": "markdown",
      "source": [
        "![Logo GyE-08.png](data:image/png;base64,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)\n",
        "\n",
        "\n",
        "\n",
        "## **Sesión 3:  Nociones básicas de la Gran Encuesta Integrada de Hogares (GEIH) y   uso de datos de la GEIH referentes a cuidado**\n",
        "---\n",
        "Autor: Linda Nataly Corredor Martínez. Asistente de investigación Proyecto Género y Economía (https://generoyeconomia.org).\n",
        "\n",
        "---\n",
        "\n",
        "\n",
        "**Contenido de la sesión:**\n",
        "*  Repaso de estructuras de control y librería pandas.\n",
        "1. El método merge de pandas.\n",
        "2. Construcción de base de datos de un mes en GEIH.\n",
        "3. Limpieza de datos.\n",
        "4. Creación de variables de Cuidado.\n",
        "5. Algunas estadísticas descriptivas.\n",
        "\n",
        "Nota: El material relacionado con esta sesión se encuentra en la página del curso: https://generoyeconomia.github.io/python_economia_cuidado/index.html  , en la sección Módulo 3."
      ],
      "metadata": {
        "id": "IQLQhHz132XJ"
      }
    },
    {
      "cell_type": "markdown",
      "source": [
        "## **Descarga de los datos**"
      ],
      "metadata": {
        "id": "I4mnwiaNs0EF"
      }
    },
    {
      "cell_type": "markdown",
      "source": [
        "`gdown` es una herramienta de línea de comandos que permite descargar archivos desde Google Drive directamente en la línea de comandos.\n",
        "\n",
        "**Sintaxis:**\n",
        "\n",
        "`!gdown --id [ID_DEL_ARCHIVO]`\n",
        "\n",
        "*  [ID_DEL_ARCHIVO] es el identificador único del archivo que deseas descargar desde Google Drive. Este identificador se puede encontrar en la URL del archivo compartido en Google Drive.\n"
      ],
      "metadata": {
        "id": "0_nAqj3EtUcm"
      }
    },
    {
      "cell_type": "code",
      "source": [
        "# Descarga la carpet geih_2024 utilizando gdown\n",
        "!gdown --id 1iKEuW-cqF1h9scmM3Mmbcb6UnQ0ZrsNI"
      ],
      "metadata": {
        "id": "k7AkTcY5smpV"
      },
      "execution_count": null,
      "outputs": []
    },
    {
      "cell_type": "code",
      "source": [
        "# Descomprime el archivo geih_2024.zip\n",
        "!unzip geih_2024"
      ],
      "metadata": {
        "id": "I9h6QBEfs-xf"
      },
      "execution_count": null,
      "outputs": []
    },
    {
      "cell_type": "markdown",
      "source": [
        "## **Importando Librerías**\n",
        "\n"
      ],
      "metadata": {
        "id": "qcyiHlPsD8uo"
      }
    },
    {
      "cell_type": "code",
      "source": [
        "import glob           # Para utilizar patrones de búsqueda de archivos\n",
        "import os             # Para interactuar con el sistema operativo\n",
        "import pandas as pd   # Para el manejo de datos en DataFrames"
      ],
      "metadata": {
        "id": "tsAdK10mGYAG"
      },
      "execution_count": null,
      "outputs": []
    },
    {
      "cell_type": "markdown",
      "source": [
        "## **2.Construcción de base de datos de un mes en GEIH.**\n",
        "\n",
        "Los microdatos que se van a usar en esta sesión se ecuentran disponibles en el siguiente link: https://microdatos.dane.gov.co/index.php/catalog/819/get-microdata\n",
        "\n",
        "A continuación, se presentan las bases de datos disponibles por mes, en los microdatos de la Gran Encuesta Integrada de Hogares. Estas bases de datos ofrecen información sobre la fuerza laboral (empleo, desempleo e inactividad) y otras variables demográficas (sexo, edad, estado civil, educación, etc.). También abarca ingresos familiares, características de vivienda, acceso a servicios y programas, sistema de protección social y calidad del empleo.\n",
        "\n",
        "**pseudocódigo**\n",
        "\n",
        "**1. Definir capítulos principales**\n",
        "\n",
        "* Caracteristicas generales, seguridad social en salud y educación\n",
        "* Ocupados\n",
        "* Fuerza de trabajo\n",
        "* No ocupados\n",
        "* Otras formas de trabajo\n",
        "* Migración\n",
        "* Otros ingresos e impuestos\n",
        "* Datos del hogar y la vivienda\n",
        "\n",
        "**2. Importar módulos**\n",
        "Tomamos cada una de las bases de datos realacionadas con los capítulos y las importamos, cargándolas como DataFrame.\n",
        "\n",
        "**3. Realizar fusión o unión de los capítulos**\n",
        "La GEIH proporciona datos tanto a nivel de hogar como a nivel individual (persona). Para poder combinar estos datos, generalmente se usan identificadores comunes en ambas bases de datos.\n",
        "Antes de fusionar las bases de datos, es importante identificar las variables clave que se utilizarán como identificadores comunes. Estas variables deben ser únicas y estar presentes en ambas bases de datos para poder realizar la fusión de manera efectiva.\n",
        "\n",
        "Las bases de datos de hogares y personas suelen tener identificadores comunes que permiten emparejar las observaciones. En la GEIH, estos identificadores suelen ser:\n",
        "\n",
        "\n",
        "*  **DIRECTORIO:** Identificador de la vivienda.\n",
        "*  **SECUENCIA_P:** Identificador del hogar.\n",
        "*  **ORDEN:** Número de la persona en el  hogar.\n",
        "\n",
        "**4. Realizar el anterior proceso de unión por cada mes y luego llevar a cabo un Append de los meses, si se quiere la base por año (Este ejercicio es adicional).**\n",
        "\n",
        "**5. Verificar y contrastar la unión de los datos.**\n"
      ],
      "metadata": {
        "id": "MGFHJJK87JSv"
      }
    },
    {
      "cell_type": "markdown",
      "source": [
        "**Funciones**"
      ],
      "metadata": {
        "id": "p-_lNf3sPMQ7"
      }
    },
    {
      "cell_type": "code",
      "source": [
        "#Definiendo función para cargar el archivo csv\n",
        "def load_csv(path):\n",
        "    \"\"\"\n",
        "    Carga un archivo CSV desde la ruta especificada y devuelve el nombre del\n",
        "    archivo (sin extensión) y su contenido en un DataFrame.\n",
        "\n",
        "    Parámetros:\n",
        "    path (str): La ruta al archivo CSV que se desea cargar.\n",
        "\n",
        "    Retornos:\n",
        "    tuple: Una tupla que contiene:\n",
        "        - name (str): El nombre del archivo sin la extensión \".CSV\".\n",
        "        - df_load (pd.DataFrame): El contenido del archivo CSV en un DataFrame de pandas.\n",
        "    \"\"\"\n",
        "\n",
        "    # Obtener el nombre del archivo sin la extensión \".CSV\" a partir de la ruta\n",
        "    name = os.path.split(path)[1].replace(\".CSV\", \"\")\n",
        "\n",
        "    # Leer el archivo CSV y almacenarlo en un DataFrame\n",
        "    df_load = pd.read_csv(path, sep=\";\", encoding='unicode_escape', low_memory=False)\n",
        "\n",
        "    return name, df_load"
      ],
      "metadata": {
        "id": "6DnJJUxuD5nl"
      },
      "execution_count": null,
      "outputs": []
    },
    {
      "cell_type": "code",
      "source": [
        "# Creación del diccionario que contiene los dataframes\n",
        "def create_dict_df(paths):\n",
        "    \"\"\"\n",
        "    Crea un diccionario donde las claves son los nombres de los archivos CSV\n",
        "    (sin extensión) y los valores son los DataFrames que contienen los datos\n",
        "    de los archivos CSV correspondientes.\n",
        "\n",
        "    Parámetros:\n",
        "    paths (list): Una lista de rutas a archivos CSV.\n",
        "\n",
        "    Retornos:\n",
        "    dict: Un diccionario donde las claves son los nombres de los archivos CSV\n",
        "          (sin extensión) y los valores son los DataFrames que contienen los\n",
        "          datos de los archivos CSV correspondientes.\n",
        "    \"\"\"\n",
        "\n",
        "    # Inicializar un diccionario vacío para almacenar los DataFrames\n",
        "    dict_data = {}\n",
        "\n",
        "    # Iterar sobre cada ruta de archivo en la lista de rutas\n",
        "    for module in paths:\n",
        "        # Obtener el nombre del archivo y cargar los datos del CSV\n",
        "        name, load_data = load_csv(module)\n",
        "\n",
        "        # Agregar el DataFrame al diccionario usando el nombre del archivo como clave\n",
        "        dict_data[name] = load_data\n",
        "\n",
        "    # Retornar el diccionario creado\n",
        "    return dict_data"
      ],
      "metadata": {
        "id": "Wi5Rsm2FEOS2"
      },
      "execution_count": null,
      "outputs": []
    },
    {
      "cell_type": "markdown",
      "source": [
        "**Definición de directorios**"
      ],
      "metadata": {
        "id": "nll6F3iaP30s"
      }
    },
    {
      "cell_type": "code",
      "source": [
        "#Directorio de datos originales\n",
        "sources_path = '/content/geih_2024/sources_marzo'\n",
        "#Directorio de datos procesados\n",
        "path_data_final = '/content/geih_2024/final_marzo'\n",
        "\n",
        "print(f'Path de data original:{sources_path}, Path data procesada:{path_data_final}')"
      ],
      "metadata": {
        "id": "UFDKiZ4ODQ-W"
      },
      "execution_count": null,
      "outputs": []
    },
    {
      "cell_type": "code",
      "source": [
        "# Listamos los archivos que se encuentran en la carpeta sources_path\n",
        "paths = glob.glob(sources_path + '/*')\n",
        "paths"
      ],
      "metadata": {
        "id": "PyU5pAr6JtVr"
      },
      "execution_count": null,
      "outputs": []
    },
    {
      "cell_type": "code",
      "source": [
        "# Miramos si las funciones se construyeron bien y se evalúan.\n",
        "print(create_dict_df(paths))"
      ],
      "metadata": {
        "id": "UVB2bpMvJk2D"
      },
      "execution_count": null,
      "outputs": []
    },
    {
      "cell_type": "markdown",
      "source": [
        "**Evaluación de las funciones: Guardando diccionario de DataFrames**"
      ],
      "metadata": {
        "id": "Cbkxo928PS8E"
      }
    },
    {
      "cell_type": "code",
      "source": [
        "# Evaluación de la función create_dict_df(paths)\n",
        "dict_data = create_dict_df(paths)\n",
        "\n",
        "# Imprimir las claves del diccionario\n",
        "print(dict_data.keys())"
      ],
      "metadata": {
        "id": "AAJ_aE6WKQRL"
      },
      "execution_count": null,
      "outputs": []
    },
    {
      "cell_type": "markdown",
      "source": [
        "**Unión (merge) de las bases de datos que se encuentra en el diccionario** `dict_data`"
      ],
      "metadata": {
        "id": "plKMouh0PdX0"
      }
    },
    {
      "cell_type": "code",
      "source": [
        "# DataFrame principal\n",
        "data = dict_data['Características generales, seguridad social en salud y educación']\n",
        "\n",
        "# Lista de categorías a fusionar en el DataFrame 'data'\n",
        "orther = ['No ocupados', 'Fuerza de trabajo', 'Migración','Ocupados', 'Otras formas de trabajo', 'Otros ingresos e impuestos']\n",
        "\n",
        "# Fusionando los DataFrames correspondientes a las categorías en 'orther' con el DataFrame 'data'\n",
        "for file_data in orther:\n",
        "    data = pd.merge(data, dict_data[file_data], on=[\"DIRECTORIO\", \"SECUENCIA_P\", \"ORDEN\"], how=\"left\", validate=\"1:1\", suffixes=(None,\"_x\"))\n",
        "\n",
        "# Fusionando el DataFrame 'data' con los datos del hogar y la vivienda\n",
        "data = pd.merge(data, dict_data['Datos del hogar y la vivienda'], on=[\"DIRECTORIO\", \"SECUENCIA_P\"], how=\"left\", validate=\"m:1\", suffixes=(None,\"_x\"))\n",
        "\n",
        "# Eliminando las columnas duplicadas que resultaron de las fusiones\n",
        "columns_delete = [i for i in data.columns if \"_x\" in i]\n",
        "data.drop(columns=columns_delete, inplace=True)\n",
        "\n",
        "# Convirtiendo los nombres de las columnas a minúsculas y renombrando las columnas en el DataFrame 'data'\n",
        "lower_columns = [i.lower() for i in data.columns]\n",
        "rename_dict = dict(zip(data.columns, lower_columns))\n",
        "data.rename(columns=rename_dict, inplace=True)\n",
        "\n",
        "# Imprimiendo la primeras filas de la base de datos final\n",
        "data.head()"
      ],
      "metadata": {
        "id": "SunyWmSkDwBO"
      },
      "execution_count": null,
      "outputs": []
    },
    {
      "cell_type": "markdown",
      "source": [
        "**Guardando el Dataframe unido en la carpeta de paths final.**"
      ],
      "metadata": {
        "id": "QmJ3-F9yO_Mi"
      }
    },
    {
      "cell_type": "code",
      "source": [
        "# Definiendo la ruta de salida del archivo CSV en la carpeta final en Drive\n",
        "path_out = os.path.join(path_data_final,'marzo' +'.csv')\n",
        "\n",
        "# Creando un registro del camino de salida para referencia\n",
        "log_out = f'Carpeta de salida  = {path_out}'\n",
        "\n",
        "# Guardando el DataFrame en un archivo CSV en la ruta de salida, sin incluir el índice\n",
        "data.to_csv(path_out, index=False)\n",
        "\n",
        "# Imprimiendo la ruta de salida\n",
        "print(log_out)"
      ],
      "metadata": {
        "id": "eMNGpQdZNw-b"
      },
      "execution_count": null,
      "outputs": []
    },
    {
      "cell_type": "markdown",
      "source": [
        "##**Comprobando que el DataFrame esté bien construido**\n",
        "\n",
        "Las cifras de mercado laboral que se presentan en la siguiente celda de código: se comparan con el anexo de la GEIH-2024 (archivo de excel) de la hoja Total Nacional en esta hoja se encuentran las series para el rango de años 2001 a 2024.\n",
        "\n",
        "Revisaremos el mes de marzo de 2024, en especial las filas que se presentan a continuación:  ![image.png](data:image/png;base64,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)\n",
        "\n",
        "Este documento se encuetra en el siguiente link:\n",
        "\n",
        "https://www.dane.gov.co/files/operaciones/GEIH/anex-GEIH-mar2024.xlsx\n",
        "\n",
        "\n",
        "\n",
        "---\n",
        "\n",
        "**Nota aclaratoria uso de factor de expansión:**\n",
        "\n",
        "Cada una de las bases contiene un campo con el nombre \"fex_c18\" el cual almacena  el factor de expansión mensual de cada registro. Este factor de expansión indica el número de personas que representa el entrevistado en la población.\n",
        "\n",
        "El factor de expansión (fex_c18) se modifica de acuerdo con la información que se necesite:\n",
        "*   Datos mensuales no se deben hacer cambios (el factor es mensual).\n",
        "*   Datos trimestrales se debe dividir en 3.\n",
        "*   Datos semestrales se divide en 6.\n",
        "*   Información anual se divide en 12.\n",
        "---\n",
        "\n"
      ],
      "metadata": {
        "id": "f5a7tqSaRfVw"
      }
    },
    {
      "cell_type": "code",
      "source": [
        "# Definimos las variables que queremos utilizar de mercado laboral\n",
        "variables_ml = ['pt', 'pet', 'ft', 'oci', 'dsi', 'fft']\n",
        "\n",
        "# Creamos un diccionario para almacenar los resultados redondeados de cada variable\n",
        "results_ml_dict = {}\n",
        "\n",
        "# Calculamos el resultado para cada variable, lo redondeamos y lo almacenamos en el diccionario\n",
        "for variable in variables_ml:\n",
        "    test = (data[variable] * data['fex_c18']).sum() / 1000\n",
        "    rounded_test = round(test)  # Redondeamos el resultado a 2 decimales\n",
        "    results_ml_dict[variable] = rounded_test\n",
        "\n",
        "# Convertimos el diccionario en un DataFrame\n",
        "results_ml_df = pd.DataFrame.from_dict(results_ml_dict, orient='index', columns=['Result'])\n",
        "\n",
        "# Mostramos el diccionario con los resultados\n",
        "results_ml_df.head()"
      ],
      "metadata": {
        "id": "TiIEbJJbSICs"
      },
      "execution_count": null,
      "outputs": []
    },
    {
      "cell_type": "code",
      "source": [
        "#Total de registros (filas del DataFrame)\n",
        "len(data)"
      ],
      "metadata": {
        "id": "j-g1ApYsgQ7k"
      },
      "execution_count": null,
      "outputs": []
    },
    {
      "cell_type": "code",
      "source": [
        "#Tamaño (filas, columnas)\n",
        "data.shape"
      ],
      "metadata": {
        "id": "DQL2Q_5egofU"
      },
      "execution_count": null,
      "outputs": []
    },
    {
      "cell_type": "code",
      "source": [
        "# Visualización de los tipos de datos de las columnas.\n",
        "data.dtypes"
      ],
      "metadata": {
        "id": "MyZGn8Hcg_SU"
      },
      "execution_count": null,
      "outputs": []
    },
    {
      "cell_type": "code",
      "source": [
        "# Imprimiendo la primeras filas de la base de datos final\n",
        "data.head()"
      ],
      "metadata": {
        "id": "cRKW4Cr4wOfS"
      },
      "execution_count": null,
      "outputs": []
    },
    {
      "cell_type": "code",
      "source": [
        "# Imprimiendo la últimas filas de la base de datos final\n",
        "data.tail()"
      ],
      "metadata": {
        "id": "pNE6_LNewPpi"
      },
      "execution_count": null,
      "outputs": []
    },
    {
      "cell_type": "markdown",
      "source": [
        "## **3. Pequeña limpieza de datos.**\n"
      ],
      "metadata": {
        "id": "D_KDR5zwWwHF"
      }
    },
    {
      "cell_type": "markdown",
      "source": [
        "Mirando la columna relacionada con las variable de sexo.\n",
        "\n",
        "**Consideraciones de la variable p3271:**\n",
        "\n",
        "\n",
        "---\n",
        "\n",
        "\n",
        "La pregunta asociada es: ¿Cuál fue su sexo al nacer?\n",
        "Las categorías de los valores son:\n",
        "\n",
        "    1 Masculino\n",
        "    2 Femenino"
      ],
      "metadata": {
        "id": "r41ixnvOZCDM"
      }
    },
    {
      "cell_type": "code",
      "source": [
        "# Obtener la frecuencia de los valores y el tipo de datos de la columna\n",
        "frecuencia_valores = data['p3271'].value_counts()\n",
        "\n",
        "# Mostrar la frecuencia de los valores\n",
        "print(\"Frecuencia de los valores de la columna:\")\n",
        "print(frecuencia_valores)"
      ],
      "metadata": {
        "id": "hQicyHD2XV2R"
      },
      "execution_count": null,
      "outputs": []
    },
    {
      "cell_type": "code",
      "source": [
        "# Mirando si el total de personas tienen observaciones para la variable de sexo\n",
        "suma_sexo = 37854+ 32865\n",
        "print(suma_sexo)\n",
        "data['pt'].value_counts()"
      ],
      "metadata": {
        "id": "fLF86OWvcSd6"
      },
      "execution_count": null,
      "outputs": []
    },
    {
      "cell_type": "code",
      "source": [
        "# Renombrando columna asociada a p3271 en el DataFrame\n",
        "data.rename(columns={'p3271': 'sexo'}, inplace=True)"
      ],
      "metadata": {
        "id": "MbAETzxQYe9E"
      },
      "execution_count": null,
      "outputs": []
    },
    {
      "cell_type": "code",
      "source": [
        "# Comprobando el cambio de nombre de la columna\n",
        "print(f\"¿La columna 'sexo' se encuentra en el dataframe? = {'sexo' in data.columns}\")\n",
        "print(f\"¿La columna 'p3271' se encuentra en el dataframe? = {'p3271' in data.columns}\")"
      ],
      "metadata": {
        "id": "DYPvIeMqg419"
      },
      "execution_count": null,
      "outputs": []
    },
    {
      "cell_type": "code",
      "source": [
        "# Veamos una parte de la columna\n",
        "data.iloc[:10][[\"sexo\"]]"
      ],
      "metadata": {
        "id": "T3TPXC_PdYA0"
      },
      "execution_count": null,
      "outputs": []
    },
    {
      "cell_type": "code",
      "source": [
        "# Modificar los valores de la columna: 1 -> 0 (Masculino), 2 -> 1 (Femenino)\n",
        "data['sexo'] = data['sexo'].map({1: 0, 2: 1})"
      ],
      "metadata": {
        "id": "68Hkp4t1dIZS"
      },
      "execution_count": null,
      "outputs": []
    },
    {
      "cell_type": "code",
      "source": [
        "data['sexo'].head()"
      ],
      "metadata": {
        "id": "K0TRdxybzXYa"
      },
      "execution_count": null,
      "outputs": []
    },
    {
      "cell_type": "code",
      "source": [
        "# Etiquetar los valores de la columna: 0 -> 'Masculino', 1 -> 'Femenino'\n",
        "data['sexo'] = data['sexo'].map({0: 'Masculino', 1: 'Femenino'})"
      ],
      "metadata": {
        "id": "KIVozlwvzRR3"
      },
      "execution_count": null,
      "outputs": []
    },
    {
      "cell_type": "code",
      "source": [
        "# Agrupar por 'sexo' y calcular la suma ponderada usando el factor de expansión\n",
        "tabla = data.groupby('sexo').apply(lambda x: (x['fex_c18']).sum()/1000).reset_index(name='suma_ponderada')\n",
        "tabla"
      ],
      "metadata": {
        "id": "FfuSgsWgayRS"
      },
      "execution_count": null,
      "outputs": []
    },
    {
      "cell_type": "markdown",
      "source": [
        "\n",
        "**Ejercicio:**\n",
        "\n",
        "\n",
        "---\n",
        "\n",
        "\n",
        "Con base en los que hemos hecho con la variable de sexo, haz este proceso con la variable \"p6040\" que es la variable asociada a la pregunta ¿Cuántos años cumplidos tiene … ?\n",
        "\n",
        "\n",
        "---\n",
        "\n",
        "*Pistas:*\n",
        "1. Utiliza el método value_counts() para obtener la frecuencia de los valores de la columna 'respuesta'.\n",
        "2. Renombra la columna p6040, por edad.\n",
        "\n",
        "\n"
      ],
      "metadata": {
        "id": "rniFegzDZ-6i"
      }
    },
    {
      "cell_type": "markdown",
      "source": [
        "## **4. Creación de variables de Cuidado**\n",
        "\n",
        "\n",
        "\n",
        "\n",
        "\n"
      ],
      "metadata": {
        "id": "zFtWHGfhjHeA"
      }
    },
    {
      "cell_type": "markdown",
      "source": [
        "**Demanda de cuidado**\n",
        "\n",
        "---\n",
        "\n",
        "\n",
        "\n",
        "La demanda de cuidado se refiere a la necesidad de atención y asistencia en diversas etapas de la vida debido a circunstancias como discapacidad, enfermedad o envejecimiento. Esta demanda involucra la interacción entre quien requiere cuidado y quien lo brinda, generando cambios en sus condiciones (DANE, 2023).\n",
        "\n",
        "En términos de demanda de cuidado, es crucial definir categorías de población que requieren atención específica, como la primera infancia (0-4 años), infancia (5-9 años), adolescencia (10-14 años), personas mayores de 65 años en el hogar, y personas con discapacidad en el hogar. Estas variables permiten identificar y cuantificar los diferentes grupos demográficos que necesitan cuidados.\n"
      ],
      "metadata": {
        "id": "MZkrW4qqY41U"
      }
    },
    {
      "cell_type": "markdown",
      "source": [
        "**Población que demanda cuidado definida a través de la variable edad.**"
      ],
      "metadata": {
        "id": "7eztPb-Li7zd"
      }
    },
    {
      "cell_type": "code",
      "source": [
        "# Personas menores de 5 años\n",
        "data.loc[:,\"primera_infancia\"] = data[\"edad\"].apply(lambda x : 1 if x < 5 else 0)\n",
        "# Verificamos si la variable está bien construida //Frecuencia\n",
        "data['primera_infancia'].value_counts()"
      ],
      "metadata": {
        "id": "6-zEChqwjJe6"
      },
      "execution_count": null,
      "outputs": []
    },
    {
      "cell_type": "markdown",
      "source": [
        "**Divipola**\n",
        "\n",
        "La codificación de la División Político Administrativa (Divipola) es un número que identifica de manera única a todos los municipios y departamentos de Colombia. Un municipio tiene un código de 5 dígitos donde los primeros 2 indican el departamento y los últimos 3 el municipio. Estos son algunos ejemplos:\n",
        "\n",
        "* El código de Antioquia es \"05\" y el código del municipio de Amalfi es \"031\" por lo que el Divipola completo es \"05031\""
      ],
      "metadata": {
        "id": "9r7QqC5vnKWe"
      }
    },
    {
      "cell_type": "code",
      "source": [
        "# Agrupar por 'area' y calcular la suma ponderada\n",
        "tabla_2 = data.groupby('area').apply(lambda x: (x['primera_infancia'] *x['fex_c18']).sum()).reset_index(name='suma_ponderada')\n",
        "# Filtrar por área igual a 5\n",
        "tabla_2 = tabla_2[tabla_2['area'] == 5]\n",
        "tabla_2"
      ],
      "metadata": {
        "id": "HyOK7GU2lR7V"
      },
      "execution_count": null,
      "outputs": []
    },
    {
      "cell_type": "markdown",
      "source": [
        "\n",
        "**Ejercicio adicional:**\n",
        "\n",
        "\n",
        "---\n",
        "\n",
        "\n",
        "Con base en los que hemos hecho con la variable de población menor a 5 años crea las variables de infancia (5-9 años), adolescencia (10-14 años), y de personas mayores de 65 años\n",
        "\n",
        "\n",
        "---\n",
        "\n",
        "*Pistas:*\n",
        "1. Utiliza el método apply() para crear la variable si cumple la condición de la edad.\n",
        "2. Verifica que esté bien construida (en tus variables deben existir unos y ceros).\n",
        "\n",
        "\n"
      ],
      "metadata": {
        "id": "zN2D-NMyiSoX"
      }
    },
    {
      "cell_type": "markdown",
      "source": [
        "**Población que con discapacidad definida a través de las preguntas del grupo de Washington adaptadas a Colombia .**\n",
        "\n",
        "\n",
        "Dada su condición física y mental, en su vida diaria tiene dificultades para realizar las siguientes actividades:​\n",
        "\n",
        "        1. No puede hacerlo​\n",
        "\n",
        "        2. Sí, con mucha dificultad​\n",
        "\n",
        "        3. Sí, con alguna dificultad​\n",
        "\n",
        "        4. Sin dificultad​\n",
        "\n",
        "​\n",
        "\n",
        "\n",
        "---\n",
        "**Nota**  \n",
        "Se identifican como personas en condición de discapacidad quienes reportan los ​dos primeros niveles de dificultad: **​No puede hacerlo** y **​Sí con mucha Dificultad**​ en al menos una de las actividades descritas.\n",
        "\n",
        "---\n",
        "\n",
        "\n",
        "+ **p1906s1:** a. ¿Oír, aún con audífonos medicados?\n",
        "+ **p1906s2:** b. ¿Hablar  o conversar?\n",
        "+ **p1906s3:** c. ¿Ver, aún usando lentes o gafas?\n",
        "+ **p1906s4:** d. ¿Mover el cuerpo, caminar o subir y bajar escaleras?\n",
        "+ **p1906s5:** e. ¿Agarrar o mover objetos con las manos?\n",
        "+ **p1906s6:** f. ¿Entender, aprender, recordar o tomar decisiones por si mismo/a?\n",
        "+ **p1906s7:** g. ¿Comer, vestirse o bañarse por si mismo (a)?\n",
        "+ **p1906s8:** h. ¿Relacionarse o interactuar con las demás personas?\n",
        "\n"
      ],
      "metadata": {
        "id": "YLt6muGgjD59"
      }
    },
    {
      "cell_type": "markdown",
      "source": [
        "Creación de variable de personas en condición de discapacidad, relacionada con las limitaciones en el movimiento corporal\n",
        "\n",
        "**P1906S4:** Dada su condición física y mental, en su vida diaria tiene dificultades para realizar las siguientes actividades:  d. ¿Mover el cuerpo, caminar o subir y bajar escaleras?.\n"
      ],
      "metadata": {
        "id": "O3dYDEsQiUGZ"
      }
    },
    {
      "cell_type": "code",
      "source": [
        "# Personas en condición de discapacidad: Limitaciones en el movimiento corporal\n",
        "data.loc[:,\"no_mov_corp\"] = data[\"p1906s4\"].apply(lambda x : 1 if (x == 1 or x==2)  else 0)\n",
        "# Selecciona las filas en las que el valor de \"no_mov_corp\" es igual a 1 y muestra las columnas \"p1906s4\" y \"no_mov_corp\". frecuencia\n",
        "data[\"no_mov_corp\"].value_counts()"
      ],
      "metadata": {
        "id": "898Wdo-PkJDa"
      },
      "execution_count": null,
      "outputs": []
    },
    {
      "cell_type": "markdown",
      "source": [
        "\n",
        "**Ejercicio adicional:**\n",
        "\n",
        "\n",
        "---\n",
        "\n",
        "\n",
        "Con base en los que hemos hecho con la variable de población con discapacidad realacionada con las limitaciones en el moviemitno corporal. Crea cada una de las variables faltantes enunciadas en la parte de arriba y crea una variable final que relacione todas estas condiciones que se llame discapacidad.\n",
        "\n",
        "Con base en esto, haz una verificación de la construcción de las variables y realiza una tabla que te permita conocer la población discapacitada a nivel del área metropolitana de Bogotá.\n",
        "\n",
        "\n",
        "---\n",
        "\n",
        "*Pistas:*\n",
        "1. Utiliza el método apply() para crear la variable.\n",
        "2. Verifica que esté bien construida (en tus variables deben existir unos y ceros).\n",
        "3. Utiliza el método groupby y los factores de expansión para conocer las personas con discapacidad en Bogotá.\n",
        "\n",
        "\n"
      ],
      "metadata": {
        "id": "qzu07K48kzmX"
      }
    },
    {
      "cell_type": "markdown",
      "source": [
        "**Oferta de cuidado**\n",
        "\n",
        "---\n",
        "\n",
        "**Clasificación industrial internacional uniforme de todas las actividades económicas (CIIU)** Es una clasificación de actividades económicas por procesos productivos que clasifica unidades estadísticas con base en su actividad económica principal [DANE(2024)](https://www.dane.gov.co/index.php/sistema-estadistico-nacional-sen/normas-y-estandares/nomenclaturas-y-clasificaciones/clasificaciones/clasificacion-industrial-internacional-uniforme-de-todas-las-actividades-economicas-ciiu#:~:text=Actividades%20Econ%C3%B3micas%20(CIIU)-,Clasificaci%C3%B3n%20industrial%20internacional%20uniforme%20de%20todas%20las%20actividades%20econ%C3%B3micas%20(CIIU,en%20su%20actividad%20econ%C3%B3mica%20principal.)\n",
        "\n",
        "---\n",
        "***Sector de cuidado (cuidado remunerado):***\n",
        "\n",
        "**CUIDADO DIRECTO**\n",
        "\n",
        "**Servicios de cuidado a grupos determinados**\n",
        "+ 8511 Educación de la primera infancia\n",
        "+ 8512 Educación preescolar\n",
        "+ 8513 Educación básica primaria\n",
        "+ 8720 Actividades de atención residencial, para el cuidado de pacientes con retardo mental, enfermedad mental y consumo de sustancias psicoactivas\n",
        "+ 8730 Actividades de atención en instituciones para el cuidado de personas mayores y/o discapacitadas\n",
        "+ 8810 Actividades de asistencia social sin alojamiento para personas mayores y discapacitadas\n",
        "\n",
        "**Salud humana y asistencia social**\n",
        "+ 8610 Actividades de hospitales y clínicas, con internación\n",
        "+ 8621 Actividades de la práctica médica, sin internación\n",
        "+ 8691 Actividades de apoyo diagnóstico\n",
        "+ 8692 Actividades de apoyo terapéutico\n",
        "+ 8699 Otras actividades de atención de la salud humana\n",
        "+ 8710 Actividades de atención residencial medicalizada de tipo general\n",
        "+ 8790 Otras actividades de atención en instituciones con alojamiento\n",
        "+ 8890 Otras actividades de asistencia social sin alojamiento\n",
        "\n",
        "\n",
        "---\n",
        "**CUIDADO INDIRECTO**\n",
        "\n",
        "**Servicio doméstico**\n",
        "+ 9700 Actividades de los hogares individuales como empleadores de personal doméstico\n",
        "\n",
        "**Servicios de comidas preparadas**\n",
        "+ 5611 Expendio a la mesa de comidas preparadas\n",
        "+ 5612 Expendio por autoservicio de comidas preparadas\n",
        "+ 5613 Expendio de comidas preparadas en cafeterías\n",
        "+ 5619 Otros tipos de expendio de comidas preparadas n.c.p.\n",
        "\n",
        "**Lavado de ropa**\n",
        "+ 9601 Lavado y limpieza, incluso la limpieza en seco, de productos textiles y de pie\n",
        "\n",
        "---\n",
        "**OTROS**\n",
        "\n",
        "**Peluquería**\n",
        "+ 9602 Peluquería y otros tratamientos de belleza\n"
      ],
      "metadata": {
        "id": "RBqhCPBfyj7N"
      }
    },
    {
      "cell_type": "markdown",
      "source": [
        "**Sector de cuidado: Cuidado Directo**\n",
        "\n",
        "\n",
        "---\n",
        "\n",
        "\n",
        "Asignar un valor que indica si una persona trabaja en el sector de cuidado directo- específicamente en servicio a grupos determinados."
      ],
      "metadata": {
        "id": "glQxq8vqfc7Y"
      }
    },
    {
      "cell_type": "markdown",
      "source": [
        "**Servicios de cuidado a grupos determinados**\n",
        "\n",
        "+ 8511 Educación de la primera infancia\n",
        "+ 8512 Educación preescolar\n",
        "+ 8513 Educación básica primaria\n",
        "+ 8720 Actividades de atención residencial, para el cuidado de pacientes con retardo mental, enfermedad mental y consumo de sustancias psicoactivas\n",
        "+ 8730 Actividades de atención en instituciones para el cuidado de personas mayores y/o discapacitadas\n",
        "+ 8810 Actividades de asistencia social sin alojamiento para personas mayores y discapacitadas"
      ],
      "metadata": {
        "id": "XhdTssRFKNXb"
      }
    },
    {
      "cell_type": "code",
      "source": [
        "# Lista de códigos CIIU a comparar\n",
        "rama4d_r4 =[8511,8512, 8513, 8720, 8730, 8810]\n",
        "# Creando nueva columna de 1 y 0 de servicios de cuidado a grupos determinados\n",
        "data['cuidado_grp_det'] = data['rama4d_r4'].isin(rama4d_r4).astype(int)\n",
        "# Filtra el DataFrame `data` para obtener sólo las filas donde la columna \"cuidado_grp_det\" es igual a 1\n",
        "# Luego selecciona y muestra las columnas \"rama4d_r4\" y \"cuidado_grp_det\" de esas filas\n",
        "data[data[\"cuidado_grp_det\"]==1][[\"rama4d_r4\",\"cuidado_grp_det\"]].value_counts()"
      ],
      "metadata": {
        "id": "6q42Vs6HIApZ"
      },
      "execution_count": null,
      "outputs": []
    },
    {
      "cell_type": "markdown",
      "source": [
        "![image.png](data:image/png;base64,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)"
      ],
      "metadata": {
        "id": "v9ZW3ZJwWRnO"
      }
    },
    {
      "cell_type": "code",
      "source": [
        "# Filtra el DataFrame `data` para obtener sólo las filas donde la columna \"cuidado_grp_det\" es igual a 1\n",
        "servicios_area = data[data[\"cuidado_grp_det\"]==1][[\"area\",\"rama4d_r4\",\"cuidado_grp_det\",\"fex_c18\"]]\n",
        "\n",
        "# Crea una nueva columna \"cuidado_grp_det_fex\" en el DataFrame `servicios_area`\n",
        "servicios_area.loc[:,\"cuidado_grp_det_fex\"] = servicios_area[\"cuidado_grp_det\"] * servicios_area[\"fex_c18\"]\n",
        "\n",
        "# Luego, se selecciona la columna \"cuidado_grp_det_fex\" y se calcula la suma de sus valores para cada area\n",
        "servicios_area.groupby([\"area\"], as_index = False)[[\"cuidado_grp_det_fex\"]].sum()"
      ],
      "metadata": {
        "id": "-BUdbMzLr_RI"
      },
      "execution_count": null,
      "outputs": []
    },
    {
      "cell_type": "markdown",
      "source": [
        "\n",
        "**Ejercicio adicional:**\n",
        "\n",
        "\n",
        "---\n",
        "\n",
        "\n",
        "Con base en los que hemos hecho con la variable de asociada al cuidado de grupos determinados, crea las subcategorías cuidado restantes. Finalmente, crea un variable que realacione el sector completo de cuidado remunerado.\n",
        "\n",
        "Con base en esto, haz una verificación de la construcción de las variables y realiza una tabla que te permita conocer las personas en el sector en las 23 áreas metropolitanas.\n",
        "\n",
        "---\n",
        "\n",
        "\n"
      ],
      "metadata": {
        "id": "0pcVaGDyvKph"
      }
    },
    {
      "cell_type": "markdown",
      "source": [
        "**Cuidado  no remunerado**\n",
        "\n",
        "\n",
        "---\n",
        "\n",
        "**CUIDADO DIRECTO**\n",
        "\n",
        "+ p3079: Cuidar niñas o niños menores de 5 años que no estén enfermos ni en condición de discapacidad\n",
        "+ p3081: Cuidar personas enfermas, en condición de discapacidad o adultos mayores\n",
        "+ p3082: Ayudar a personas con tareas o trabajos escolares\n",
        "\n",
        "\n",
        "---\n",
        "\n",
        "**CUIDADO INDIRECTO**\n",
        "\n",
        "+ p3076: Cocinar, lavar los platos, poner la mesa\n",
        "+ p3077: Lavar, colgar, planchar la ropa, reparar ropa\n",
        "+ p3078: Limpiar o arreglar la casa, tender las camas, barrer trapear, sacar la basura\n",
        "+ p3089: Preparar conservas, quesos o embutidos\n",
        "+ p3091: Elaborar prendas de vestir\n",
        "---\n",
        "\n",
        "**OTROS**\n",
        "+ Hacer de manera voluntaria, reparaciones, labores de limpieza o algún  trabajo en beneficio de su barrio, vereda, centro poblado o comunidad\n",
        "\n",
        "    **p3098: p3098s1 -días p3098s2 - horas día**\n",
        "+ Realizar actividades de voluntariado (sin que le pagaran) a través de \tuna institución sin ánimo de lucro como: damas grises de la Cruz Roja, un techo para mi país, entre otros\n",
        "\n",
        "  **p3099: p3099s1- días p3099s2- horas día**\n",
        "\n",
        "+  Participar en reuniones de asociaciones de padres, sindicatos, partidos \tpolíticos, juntas de acción comunal\n",
        "\n",
        "  **p3101: p3101s1- días p3101s2- horas día**\n",
        "\n",
        "\n",
        "\n",
        "\n",
        "\n"
      ],
      "metadata": {
        "id": "l-8b3wf72r_S"
      }
    },
    {
      "cell_type": "markdown",
      "source": [
        "**Tiempos de cuidado**\n",
        "\n",
        "\n",
        "---\n",
        "\n",
        "\n",
        "Asignar un valor que indica si se dedica tiempo a una persona que requiere cuidado: personas enfermas, en condición de discapacidad o adultos mayores en el hogar\n"
      ],
      "metadata": {
        "id": "qCdarCu_hAiZ"
      }
    },
    {
      "cell_type": "markdown",
      "source": [
        "**p3081s1:**  Cuidar personas enfermas, en condición de discapacidad o adultos mayores en: a. Su hogar? (1: Si; 2:No)"
      ],
      "metadata": {
        "id": "x-d-f3XdiHfa"
      }
    },
    {
      "cell_type": "code",
      "source": [
        "#Acceso a la columna p3081s1\n",
        "data[\"p3081s1\"]"
      ],
      "metadata": {
        "id": "j8yD6Zvnox1J"
      },
      "execution_count": null,
      "outputs": []
    },
    {
      "cell_type": "markdown",
      "source": [
        "**p3081s1a1**: Cuidar personas enfermas, en condición de discapacidad o adultos mayores en: Días"
      ],
      "metadata": {
        "id": "8oHIDXMujFSi"
      }
    },
    {
      "cell_type": "code",
      "source": [
        "# Obtiene los valores únicos en la columna \"p3081s1a2\", que representan las horas por día\n",
        "data[\"p3081s1a2\"].unique()  # Horas por día"
      ],
      "metadata": {
        "id": "_ei_pG8TpPBP"
      },
      "execution_count": null,
      "outputs": []
    },
    {
      "cell_type": "code",
      "source": [
        "# Obtiene los valores únicos en la columna \"p3081s1a1\", que representan los días de la semana\n",
        "data[\"p3081s1a1\"].unique()  # Días de la semana"
      ],
      "metadata": {
        "id": "W1EZVvsYpSVO"
      },
      "execution_count": null,
      "outputs": []
    },
    {
      "cell_type": "code",
      "source": [
        "# Calcula la columna \"horas_semana_cuid_may\" basada en condiciones específicas de otras columnas\n",
        "data[\"horas_semana_cuid_may\"] = data.apply(lambda x: x[\"p3081s1a1\"] * x[\"p3081s1a2\"] if (x[\"p3081s1\"] == 1) else 0, axis=1)"
      ],
      "metadata": {
        "id": "Ut8Sp-UzozZf"
      },
      "execution_count": null,
      "outputs": []
    },
    {
      "cell_type": "code",
      "source": [
        "# Filtra las filas donde \"horas_semana_cuid_may\" es diferente de cero y selecciona columnas específicas para mostrar\n",
        "filtered_data = data[data[\"horas_semana_cuid_may\"] != 0][[\"p3081s1a1\", \"p3081s1a2\", \"p3081s1\", \"horas_semana_cuid_may\", \"sexo\"]]\n",
        "filtered_data"
      ],
      "metadata": {
        "id": "Nv49eAiVpbxr"
      },
      "execution_count": null,
      "outputs": []
    },
    {
      "cell_type": "code",
      "source": [
        "# Calcular el promedio de las horas semanales de cuidado mayoritariamente\n",
        "horas_promedio_cuidado = filtered_data[\"horas_semana_cuid_may\"].mean()\n",
        "horas_promedio_cuidado"
      ],
      "metadata": {
        "id": "duh9kG_IpnOv"
      },
      "execution_count": null,
      "outputs": []
    },
    {
      "cell_type": "code",
      "source": [
        "# Muestra información acerca de las columnas \"horas_semana_cuid_may\" y \"sexo\"\n",
        "data[[\"horas_semana_cuid_may\",'sexo']].info()"
      ],
      "metadata": {
        "id": "TXDfdvGDr7yR"
      },
      "execution_count": null,
      "outputs": []
    },
    {
      "cell_type": "code",
      "source": [
        "# Agrupar por sexo y calcular el promedio de horas semanales de cuidado a mayores\n",
        "tabla_promedio_sexo = filtered_data.groupby('sexo')['horas_semana_cuid_may'].mean()\n",
        "\n",
        "# Mostrar la tabla resultante\n",
        "tabla_promedio_sexo"
      ],
      "metadata": {
        "id": "sklpAY3hp51N"
      },
      "execution_count": null,
      "outputs": []
    },
    {
      "cell_type": "markdown",
      "source": [
        "## **5. Algunas estadísticas descriptivas**\n",
        "\n",
        "En esta sección, nos sumergiremos en un análisis exploratorio que tiene como objetivo abordar preguntas de interés y validar hipótesis relevantes. Exploraremos diversas estadísticas descriptivas para comprender mejor nuestros datos y obtener insights valiosos que guíen nuestro análisis más detallado."
      ],
      "metadata": {
        "id": "I7FZ1dp-xBAC"
      }
    },
    {
      "cell_type": "code",
      "source": [
        "# Estadísticos de las columnas numéricas\n",
        "data.describe()"
      ],
      "metadata": {
        "id": "o4UbIvEXGCaT"
      },
      "execution_count": null,
      "outputs": []
    },
    {
      "cell_type": "code",
      "source": [
        "# Visualización de un subconjunto de columnas\n",
        "data[\n",
        "    ['edad',\n",
        "     'inglabo',\n",
        "     'p6800',\n",
        "     'p6850'\n",
        "      ]].describe()"
      ],
      "metadata": {
        "id": "1M35gJigqBdB"
      },
      "execution_count": null,
      "outputs": []
    },
    {
      "cell_type": "code",
      "source": [
        "# Filtrar el DataFrame donde servicios_area es igual a 1 y luego mostrar las estadísticas descriptivas\n",
        "data[data['cuidado_grp_det'] == 1][['edad', 'inglabo', 'p6800', 'p6850']].describe()\n"
      ],
      "metadata": {
        "id": "4FQ_Gm8ZtJDw"
      },
      "execution_count": null,
      "outputs": []
    },
    {
      "cell_type": "code",
      "source": [],
      "metadata": {
        "id": "J8S4-lRKtU94"
      },
      "execution_count": null,
      "outputs": []
    }
  ]
}